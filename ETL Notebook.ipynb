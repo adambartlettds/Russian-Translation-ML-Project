{
    "cells": [
        {
            "cell_type": "code",
            "execution_count": null,
            "metadata": {},
            "outputs": [],
            "source": "# The code was removed by Watson Studio for sharing."
        },
        {
            "cell_type": "code",
            "execution_count": 1,
            "metadata": {},
            "outputs": [],
            "source": "# I wanted to save my Russian translation model. Turns out keras is deprecated, so the keras sequential model format is not supported, and cannot be deployed. \nfrom ibm_watson_machine_learning import APIClient\n\nwml_credentials = {\n\"token\": \"eyJraWQiOiIyMDIxMDgxOTA4MTciLCJhbGciOiJSUzI1NiJ9.eyJpYW1faWQiOiJJQk1pZC02NzQwMDBMWEk2IiwiaWQiOiJJQk1pZC02NzQwMDBMWEk2IiwicmVhbG1pZCI6IklCTWlkIiwianRpIjoiNjk4YWNjYjctMGQ0NC00NDFkLWE0MjItMDYzYzJkNGUxMmMxIiwiaWRlbnRpZmllciI6IjY3NDAwMExYSTYiLCJnaXZlbl9uYW1lIjoiQWRhbSIsImZhbWlseV9uYW1lIjoiQmFydGxldHQiLCJuYW1lIjoiQWRhbSBCYXJ0bGV0dCIsImVtYWlsIjoiYWRhbWJhcnRsZXR0ZGF0YXNjaWVuY2VAZ21haWwuY29tIiwic3ViIjoiYWRhbWJhcnRsZXR0ZGF0YXNjaWVuY2VAZ21haWwuY29tIiwiYXV0aG4iOnsic3ViIjoiYWRhbWJhcnRsZXR0ZGF0YXNjaWVuY2VAZ21haWwuY29tIiwiaWFtX2lkIjoiSUJNaWQtNjc0MDAwTFhJNiIsIm5hbWUiOiJBZGFtIEJhcnRsZXR0IiwiZ2l2ZW5fbmFtZSI6IkFkYW0iLCJmYW1pbHlfbmFtZSI6IkJhcnRsZXR0IiwiZW1haWwiOiJhZGFtYmFydGxldHRkYXRhc2NpZW5jZUBnbWFpbC5jb20ifSwiYWNjb3VudCI6eyJib3VuZGFyeSI6Imdsb2JhbCIsInZhbGlkIjp0cnVlLCJic3MiOiI4MzAyYTY5NjcwOWE0ZjUyYWYzNzBjZjZjMzE5MjFiYSIsImltc191c2VyX2lkIjoiOTQ1ODI4MCIsImZyb3plbiI6dHJ1ZSwiaW1zIjoiMjMyOTYwMiJ9LCJpYXQiOjE2MzE4OTc3OTQsImV4cCI6MTYzMTkwMTM5NCwiaXNzIjoiaHR0cHM6Ly9pYW0uY2xvdWQuaWJtLmNvbS9pZGVudGl0eSIsImdyYW50X3R5cGUiOiJ1cm46aWJtOnBhcmFtczpvYXV0aDpncmFudC10eXBlOmFwaWtleSIsInNjb3BlIjoiaWJtIG9wZW5pZCIsImNsaWVudF9pZCI6ImRlZmF1bHQiLCJhY3IiOjEsImFtciI6WyJwd2QiXX0.h5Eb4VREljxqRWdnyA9Ha1V79LALnd398-dOAuUdzIhZCc32gjN3_GfmMnYMJM1hM5U7RFO3zSFUIPHWgp0LOf0nLsf2uM5ZSVLf_DOSLNG8YQixpuR_BA4yYZBLRgaCvBfSollwnOknWYxYqX70c8Kq7fsWZmFFgNhGxCt723qcSf4WcxYslNzyswCdqCRsjmNQojs6jiFV_lMY1Iyu0z2cuQswm9AP2CHcE9QkCYGV_JZplhDn-LggLapApxGQCERmPR1hcEX4I_lPQ_-aeATBcxgVy7KPl5h7pTug6uTNkx6y1FykY_WZuywzlv6geNmoL1Se_iEDBQg39eONCA\",\n\"instance_id\" : \"openshift\",\n\"url\": \"https://api.dataplatform.cloud.ibm.com/\",\n\"version\": \"4.0\"\n}\n\nclient = APIClient( wml_credentials )"
        },
        {
            "cell_type": "code",
            "execution_count": null,
            "metadata": {},
            "outputs": [],
            "source": "#https://www.ibm.com/support/producthub/icpdata/docs/content/SSQNUZ_latest/wsj/analyze-data/ml-notebook_local.html\nspace_uid = \"50c1072f-a934-4621-8ab5-8cd4b6a99400\""
        },
        {
            "cell_type": "code",
            "execution_count": null,
            "metadata": {},
            "outputs": [],
            "source": " client.set.default_space(space_uid)"
        },
        {
            "cell_type": "code",
            "execution_count": null,
            "metadata": {},
            "outputs": [],
            "source": "software_spec_id =  client.software_specifications.get_id_by_name('default_py3.7')\nprint(software_spec_id)"
        },
        {
            "cell_type": "code",
            "execution_count": null,
            "metadata": {},
            "outputs": [],
            "source": "print(type(model))"
        },
        {
            "cell_type": "code",
            "execution_count": null,
            "metadata": {},
            "outputs": [],
            "source": "model_details = client.repository.store_model(model=model,meta_props={\nclient.repository.ModelMetaNames.NAME:\"Russian To English Translation\",\nclient.repository.ModelMetaNames.TYPE:\"keras.engine.sequential.Sequential\",\nclient.repository.ModelMetaNames.SOFTWARE_SPEC_UID:software_spec_id }\n                                          )\n#model_id = client.repository.get_model_uid(model_details)"
        },
        {
            "cell_type": "code",
            "execution_count": null,
            "metadata": {},
            "outputs": [],
            "source": "metadata = {\nclient.repository.ModelMetaNames.NAME: 'Russian-Translation',\nclient.repository.ModelMetaNames.FRAMEWORK_NAME: 'tensorflow',\nclient.repository.ModelMetaNames.FRAMEWORK_VERSION: '2.6.0',\nclient.repository.ModelMetaNames.FRAMEWORK_LIBRARIES:[{'name':'keras', 'version': '2.6.0'}]\n}"
        },
        {
            "cell_type": "code",
            "execution_count": null,
            "metadata": {},
            "outputs": [],
            "source": "!pip install googletrans==4.0.0-rc1\n"
        },
        {
            "cell_type": "code",
            "execution_count": null,
            "metadata": {},
            "outputs": [],
            "source": "# Couldn't get google translate to work for testing. There's a widespread, (mostly) unresolved issue of error: 'NoneType' object has no attribute 'group'. \nfrom googletrans import Translator\ntranslator = Translator()\ntranslation = translator.translate(\"Der Himmel ist blau und ich mag Bananen\", dest='en')\nprint(translation.text)"
        },
        {
            "cell_type": "code",
            "execution_count": null,
            "metadata": {},
            "outputs": [],
            "source": "# The code was removed by Watson Studio for sharing."
        }
    ],
    "metadata": {
        "kernelspec": {
            "display_name": "Python 3.8",
            "language": "python",
            "name": "python3"
        },
        "language_info": {
            "codemirror_mode": {
                "name": "ipython",
                "version": 3
            },
            "file_extension": ".py",
            "mimetype": "text/x-python",
            "name": "python",
            "nbconvert_exporter": "python",
            "pygments_lexer": "ipython3",
            "version": "3.8.11"
        }
    },
    "nbformat": 4,
    "nbformat_minor": 1
}